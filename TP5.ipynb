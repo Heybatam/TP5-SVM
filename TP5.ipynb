{
  "nbformat": 4,
  "nbformat_minor": 0,
  "metadata": {
    "colab": {
      "provenance": [],
      "collapsed_sections": [],
      "toc_visible": true
    },
    "kernelspec": {
      "name": "python3",
      "display_name": "Python 3"
    },
    "language_info": {
      "name": "python"
    }
  },
  "cells": [
    {
      "cell_type": "markdown",
      "source": [
        "# PARTIE 1"
      ],
      "metadata": {
        "id": "OMuu4ng53KxJ"
      }
    },
    {
      "cell_type": "code",
      "execution_count": 15,
      "metadata": {
        "id": "20iv5ZWrs9_d"
      },
      "outputs": [],
      "source": [
        "import numpy as np\n",
        "import matplotlib.pyplot as plt\n",
        "from sklearn import svm, datasets\n",
        "from sklearn.model_selection import train_test_split\n",
        "# Chargement des données\n",
        "iris = datasets.load_iris()"
      ]
    },
    {
      "cell_type": "code",
      "source": [
        "X, y = iris.data[:, :2], iris.target\n",
        "# On conserve 50% du jeu de données pour l'évaluation\n",
        "X_train, X_test, y_train, y_test = train_test_split(X, y, test_size=0.5)"
      ],
      "metadata": {
        "id": "RaTCDRi_vMLY"
      },
      "execution_count": 16,
      "outputs": []
    },
    {
      "cell_type": "code",
      "source": [
        "C = 1 # paramètre de régularisation\n",
        "lin_svc = svm.LinearSVC(C=C)\n",
        "lin_svc.fit(X_train, y_train)"
      ],
      "metadata": {
        "colab": {
          "base_uri": "https://localhost:8080/"
        },
        "id": "ONCTnRzfwe84",
        "outputId": "340baa82-0598-4a08-8652-1511aca54586"
      },
      "execution_count": 17,
      "outputs": [
        {
          "output_type": "stream",
          "name": "stderr",
          "text": [
            "/usr/local/lib/python3.7/dist-packages/sklearn/svm/_base.py:1208: ConvergenceWarning: Liblinear failed to converge, increase the number of iterations.\n",
            "  ConvergenceWarning,\n"
          ]
        },
        {
          "output_type": "execute_result",
          "data": {
            "text/plain": [
              "LinearSVC(C=1)"
            ]
          },
          "metadata": {},
          "execution_count": 17
        }
      ]
    },
    {
      "cell_type": "code",
      "source": [
        "lin_svc.predict(X_test)"
      ],
      "metadata": {
        "colab": {
          "base_uri": "https://localhost:8080/"
        },
        "id": "F8qs0nZ6xFhW",
        "outputId": "c0ebe1e2-1002-4f6a-bace-04f47301a360"
      },
      "execution_count": 18,
      "outputs": [
        {
          "output_type": "execute_result",
          "data": {
            "text/plain": [
              "array([0, 1, 1, 1, 1, 0, 2, 2, 0, 2, 1, 0, 2, 2, 2, 1, 0, 2, 2, 2, 2, 2,\n",
              "       2, 2, 1, 1, 0, 0, 1, 0, 2, 1, 2, 2, 0, 1, 0, 1, 1, 1, 2, 0, 0, 0,\n",
              "       2, 2, 0, 0, 2, 2, 0, 1, 2, 0, 0, 2, 0, 0, 2, 1, 2, 0, 0, 1, 0, 0,\n",
              "       0, 2, 2, 1, 2, 0, 2, 1, 2])"
            ]
          },
          "metadata": {},
          "execution_count": 18
        }
      ]
    },
    {
      "cell_type": "code",
      "source": [
        "lin_svc.score(X_test,y_test)"
      ],
      "metadata": {
        "colab": {
          "base_uri": "https://localhost:8080/"
        },
        "id": "aBP4SobqxUgt",
        "outputId": "44bb4e91-6308-4730-d376-6254dd8290d7"
      },
      "execution_count": 19,
      "outputs": [
        {
          "output_type": "execute_result",
          "data": {
            "text/plain": [
              "0.8"
            ]
          },
          "metadata": {},
          "execution_count": 19
        }
      ]
    },
    {
      "cell_type": "code",
      "source": [
        "# Créer la surface de décision discretisée\n",
        "x_min, x_max = X[:, 0].min() - 1, X[:, 0].max() + 1\n",
        "y_min, y_max = X[:, 1].min() - 1, X[:, 1].max() + 1\n",
        "# Pour afficher la surface de décision on va discrétiser l'espace avec un pas h\n",
        "h = max((x_max - x_min) / 100, (y_max - y_min) / 100)\n",
        "xx, yy = np.meshgrid(np.arange(x_min, x_max, h), np.arange(y_min, y_max, h))\n",
        "# Surface de décision\n",
        "Z = lin_svc.predict(np.c_[xx.ravel(), yy.ravel()])\n",
        "Z = Z.reshape(xx.shape)\n",
        "plt.contourf(xx, yy, Z, cmap=plt.cm.coolwarm, alpha=0.8)\n",
        "# Afficher aussi les points d'apprentissage\n",
        "plt.scatter(X_train[:, 0], X_train[:, 1], label=\"train\", edgecolors='k',\n",
        "c=y_train, cmap=plt.cm.coolwarm)\n",
        "plt.scatter(X_test[:, 0], X_test[:, 1], label=\"test\", marker='*', c=y_test,\n",
        "cmap=plt.cm.coolwarm)\n",
        "plt.xlabel('Sepal length')\n",
        "plt.ylabel('Sepal width')\n",
        "plt.title(\"LinearSVC\")"
      ],
      "metadata": {
        "colab": {
          "base_uri": "https://localhost:8080/",
          "height": 312
        },
        "id": "-h_o7JZlxY2X",
        "outputId": "f6f2a1d0-c0a5-4df5-a992-79cab6534152"
      },
      "execution_count": 6,
      "outputs": [
        {
          "output_type": "execute_result",
          "data": {
            "text/plain": [
              "Text(0.5, 1.0, 'LinearSVC')"
            ]
          },
          "metadata": {},
          "execution_count": 6
        },
        {
          "output_type": "display_data",
          "data": {
            "text/plain": [
              "<Figure size 432x288 with 1 Axes>"
            ],
            "image/png": "[encoded data removed]"
          },
          "metadata": {
            "needs_background": "light"
          }
        }
      ]
    },
    {
      "cell_type": "code",
      "source": [
        "lin_svc = svm.LinearSVC(C=C).fit(X_train, y_train)\n",
        "svc = svm.SVC(kernel='linear', C=C).fit(X_train, y_train)\n",
        "titles = ['SVC with linear kernel', 'LinearSVC (linear kernel)']\n",
        "fig = plt.figure(figsize=(12, 4.5))\n",
        "for i, clf in enumerate((svc, lin_svc)):\n",
        " plt.subplot(1, 2, i + 1)\n",
        " plt.subplots_adjust(wspace=0.4, hspace=0.4)\n",
        " Z = clf.predict(np.c_[xx.ravel(), yy.ravel()])\n",
        " # Utiliser une palette de couleurs\n",
        " Z = Z.reshape(xx.shape)\n",
        " plt.contourf(xx, yy, Z, cmap=plt.cm.coolwarm, alpha=0.8)\n",
        " # Afficher aussi les points d'apprentissage\n",
        " plt.scatter(X_train[:, 0], X_train[:, 1], label=\"train\", edgecolors='k',\n",
        "c=y_train, cmap=plt.cm.coolwarm)\n",
        " plt.scatter(X_test[:, 0], X_test[:, 1], label=\"test\", marker='*',\n",
        "c=y_test, cmap=plt.cm.coolwarm)\n",
        " plt.xlabel('Sepal length')\n",
        " plt.ylabel('Sepal width')\n",
        " plt.title(titles[i])\n",
        "plt.show()"
      ],
      "metadata": {
        "colab": {
          "base_uri": "https://localhost:8080/",
          "height": 358
        },
        "id": "Yw6AJN74xmlx",
        "outputId": "7c81e193-b0bb-4139-f0ec-4fc5c34f14ff"
      },
      "execution_count": 7,
      "outputs": [
        {
          "output_type": "stream",
          "name": "stderr",
          "text": [
            "/usr/local/lib/python3.7/dist-packages/sklearn/svm/_base.py:1208: ConvergenceWarning: Liblinear failed to converge, increase the number of iterations.\n",
            "  ConvergenceWarning,\n"
          ]
        },
        {
          "output_type": "display_data",
          "data": {
            "text/plain": [
              "<Figure size 864x324 with 2 Axes>"
            ],
            "image/png": "[encoded data removed]"
          },
          "metadata": {
            "needs_background": "light"
          }
        }
      ]
    },
    {
      "cell_type": "code",
      "source": [
        "X, y = iris.data, iris.target\n",
        "# On conserve 50% du jeu de données pour l'évaluation\n",
        "X_train, X_test, y_train, y_test = train_test_split(X, y, test_size=0.5)"
      ],
      "metadata": {
        "id": "GxWBSIIv2UDj"
      },
      "execution_count": 8,
      "outputs": []
    },
    {
      "cell_type": "code",
      "source": [
        "C = 0.5 # paramètre de régularisation\n",
        "lin_svc = svm.LinearSVC(C=C)\n",
        "lin_svc.fit(X_train, y_train)"
      ],
      "metadata": {
        "colab": {
          "base_uri": "https://localhost:8080/"
        },
        "id": "gwuOd-VA-cPw",
        "outputId": "228c7db8-c894-4791-f1fe-5a82d5234bbf"
      },
      "execution_count": 9,
      "outputs": [
        {
          "output_type": "execute_result",
          "data": {
            "text/plain": [
              "LinearSVC(C=0.5)"
            ]
          },
          "metadata": {},
          "execution_count": 9
        }
      ]
    },
    {
      "cell_type": "code",
      "source": [
        "lin_svc.predict(X_test)"
      ],
      "metadata": {
        "colab": {
          "base_uri": "https://localhost:8080/"
        },
        "id": "Nk1_-7wV-e5R",
        "outputId": "c1c1c29a-641e-4e0d-b4a4-776f03d161db"
      },
      "execution_count": 10,
      "outputs": [
        {
          "output_type": "execute_result",
          "data": {
            "text/plain": [
              "array([1, 2, 1, 0, 0, 2, 2, 0, 0, 2, 0, 1, 0, 0, 2, 0, 1, 2, 0, 2, 0, 1,\n",
              "       0, 0, 0, 0, 2, 0, 2, 1, 2, 2, 0, 0, 0, 0, 2, 1, 1, 0, 2, 1, 2, 2,\n",
              "       2, 1, 1, 2, 1, 0, 1, 0, 1, 2, 2, 2, 1, 0, 2, 0, 2, 0, 0, 0, 0, 2,\n",
              "       1, 0, 0, 1, 0, 0, 2, 1, 1])"
            ]
          },
          "metadata": {},
          "execution_count": 10
        }
      ]
    },
    {
      "cell_type": "code",
      "source": [
        "lin_svc.score(X_test,y_test)"
      ],
      "metadata": {
        "colab": {
          "base_uri": "https://localhost:8080/"
        },
        "id": "RFBb2rSn-s4i",
        "outputId": "57f09855-d0d9-45a1-9c78-4517251e602c"
      },
      "execution_count": 11,
      "outputs": [
        {
          "output_type": "execute_result",
          "data": {
            "text/plain": [
              "0.9733333333333334"
            ]
          },
          "metadata": {},
          "execution_count": 11
        }
      ]
    },
    {
      "cell_type": "code",
      "source": [],
      "metadata": {
        "id": "_Aivt4kA-zQ-"
      },
      "execution_count": 11,
      "outputs": []
    },
    {
      "cell_type": "markdown",
      "source": [
        "# PARTIE 2"
      ],
      "metadata": {
        "id": "Lc_RAME93Gtd"
      }
    },
    {
      "cell_type": "code",
      "source": [
        "from sklearn.datasets import load_digits\n",
        "digits = load_digits()\n",
        "X, y = digits.data, digits.target"
      ],
      "metadata": {
        "id": "0WUGEwlx3FqZ"
      },
      "execution_count": null,
      "outputs": []
    },
    {
      "cell_type": "code",
      "source": [
        "import matplotlib.pyplot as plt \n",
        "fig = plt.figure() \n",
        "for i, digit in enumerate(digits.images[:10]): \n",
        "    fig.add_subplot(1,10,i+1) \n",
        "    plt.imshow(digit) \n",
        "plt.show()"
      ],
      "metadata": {
        "colab": {
          "base_uri": "https://localhost:8080/",
          "height": 78
        },
        "id": "v6PT_36d3P8v",
        "outputId": "8494aada-15eb-4e1b-91f0-f3248e17ee56"
      },
      "execution_count": null,
      "outputs": [
        {
          "output_type": "display_data",
          "data": {
            "text/plain": [
              "<Figure size 432x288 with 10 Axes>"
            ],
            "image/png": "[encoded data removed]"
          },
          "metadata": {
            "needs_background": "light"
          }
        }
      ]
    },
    {
      "cell_type": "code",
      "source": [
        "X.shape"
      ],
      "metadata": {
        "colab": {
          "base_uri": "https://localhost:8080/"
        },
        "id": "QU4dd_JX3brN",
        "outputId": "a7d8255d-ce98-44e3-af97-01f4a59d7225"
      },
      "execution_count": null,
      "outputs": [
        {
          "output_type": "execute_result",
          "data": {
            "text/plain": [
              "(1797, 64)"
            ]
          },
          "metadata": {},
          "execution_count": 41
        }
      ]
    },
    {
      "cell_type": "code",
      "source": [
        "X_train, X_test, y_train, y_test = train_test_split(X, y, test_size=0.5)"
      ],
      "metadata": {
        "id": "XSH9cls03fUF"
      },
      "execution_count": null,
      "outputs": []
    },
    {
      "cell_type": "code",
      "source": [
        "C = 0.1\n",
        "lin_svc = svm.LinearSVC(C=C)\n",
        "lin_svc.fit(X_train,y_train)"
      ],
      "metadata": {
        "colab": {
          "base_uri": "https://localhost:8080/"
        },
        "id": "jGYhS15Y5AV-",
        "outputId": "38e3c2d8-0a92-480f-f257-b81130bba11b"
      },
      "execution_count": null,
      "outputs": [
        {
          "output_type": "stream",
          "name": "stderr",
          "text": [
            "/usr/local/lib/python3.7/dist-packages/sklearn/svm/_base.py:1208: ConvergenceWarning: Liblinear failed to converge, increase the number of iterations.\n",
            "  ConvergenceWarning,\n"
          ]
        },
        {
          "output_type": "execute_result",
          "data": {
            "text/plain": [
              "LinearSVC(C=0.1)"
            ]
          },
          "metadata": {},
          "execution_count": 44
        }
      ]
    },
    {
      "cell_type": "code",
      "source": [
        "lin_svc.predict(X_test)"
      ],
      "metadata": {
        "colab": {
          "base_uri": "https://localhost:8080/"
        },
        "id": "KnQSr_LC5JnL",
        "outputId": "d4a7e811-51b1-4ae9-cb31-14599815a03a"
      },
      "execution_count": null,
      "outputs": [
        {
          "output_type": "execute_result",
          "data": {
            "text/plain": [
              "array([5, 3, 8, 3, 2, 7, 7, 9, 4, 9, 3, 1, 6, 9, 1, 5, 5, 9, 3, 5, 8, 2,\n",
              "       8, 8, 2, 0, 0, 1, 7, 7, 8, 9, 6, 0, 3, 5, 3, 1, 1, 3, 6, 2, 8, 2,\n",
              "       8, 0, 2, 7, 0, 9, 0, 5, 0, 4, 0, 4, 6, 1, 1, 8, 1, 6, 3, 7, 2, 6,\n",
              "       4, 2, 0, 1, 8, 2, 6, 2, 9, 0, 3, 9, 6, 6, 1, 3, 0, 9, 3, 3, 2, 0,\n",
              "       4, 2, 3, 8, 7, 5, 1, 2, 8, 0, 6, 7, 0, 7, 9, 5, 9, 0, 5, 2, 1, 4,\n",
              "       0, 9, 5, 3, 8, 5, 2, 3, 6, 5, 2, 3, 1, 0, 3, 4, 8, 1, 1, 3, 2, 4,\n",
              "       8, 2, 6, 9, 0, 0, 4, 6, 9, 9, 8, 4, 4, 1, 5, 9, 3, 7, 8, 1, 8, 0,\n",
              "       0, 5, 5, 3, 5, 8, 5, 8, 9, 2, 6, 6, 1, 5, 9, 6, 3, 2, 6, 0, 3, 0,\n",
              "       8, 0, 7, 7, 9, 5, 2, 5, 2, 1, 1, 6, 1, 0, 0, 4, 5, 3, 1, 0, 3, 2,\n",
              "       5, 7, 9, 4, 7, 4, 0, 7, 8, 8, 0, 1, 1, 4, 4, 9, 9, 4, 5, 2, 0, 3,\n",
              "       5, 0, 5, 8, 1, 5, 7, 6, 5, 7, 4, 1, 1, 4, 1, 6, 8, 2, 4, 4, 2, 3,\n",
              "       2, 1, 0, 8, 4, 0, 7, 0, 9, 7, 8, 3, 1, 2, 6, 4, 2, 9, 1, 1, 7, 9,\n",
              "       0, 3, 3, 6, 3, 9, 7, 0, 6, 5, 1, 3, 7, 1, 2, 9, 1, 9, 7, 1, 7, 4,\n",
              "       1, 1, 6, 9, 0, 9, 7, 8, 2, 8, 5, 9, 2, 5, 9, 2, 8, 3, 4, 5, 7, 6,\n",
              "       4, 1, 0, 7, 8, 5, 4, 8, 0, 7, 4, 3, 0, 3, 9, 7, 6, 4, 6, 2, 0, 4,\n",
              "       5, 0, 5, 6, 7, 3, 5, 9, 4, 7, 9, 1, 7, 2, 5, 4, 3, 7, 7, 7, 1, 5,\n",
              "       1, 6, 1, 7, 5, 9, 4, 8, 4, 9, 5, 7, 0, 2, 6, 6, 5, 4, 8, 1, 2, 4,\n",
              "       9, 3, 2, 3, 0, 7, 3, 4, 1, 2, 0, 3, 7, 9, 6, 3, 5, 0, 7, 9, 4, 4,\n",
              "       9, 9, 5, 6, 2, 0, 6, 4, 2, 5, 8, 8, 1, 6, 0, 0, 0, 1, 1, 5, 9, 4,\n",
              "       0, 6, 8, 8, 1, 0, 5, 0, 1, 8, 1, 7, 3, 6, 5, 7, 5, 2, 2, 0, 3, 0,\n",
              "       7, 2, 2, 1, 4, 1, 0, 1, 7, 0, 5, 0, 6, 5, 5, 4, 1, 4, 6, 0, 6, 6,\n",
              "       5, 5, 8, 6, 1, 1, 2, 6, 2, 5, 1, 2, 8, 3, 1, 2, 1, 8, 3, 3, 3, 1,\n",
              "       3, 0, 4, 5, 4, 7, 8, 3, 1, 3, 1, 0, 4, 5, 7, 5, 9, 1, 1, 4, 1, 3,\n",
              "       5, 4, 5, 8, 7, 3, 2, 9, 9, 5, 5, 2, 3, 6, 4, 1, 9, 5, 8, 8, 4, 6,\n",
              "       7, 2, 1, 6, 7, 4, 9, 4, 8, 1, 2, 7, 2, 6, 9, 6, 7, 6, 3, 3, 3, 9,\n",
              "       5, 7, 5, 0, 5, 5, 6, 6, 4, 7, 8, 0, 5, 5, 8, 3, 0, 1, 7, 8, 7, 4,\n",
              "       4, 2, 0, 4, 2, 1, 0, 3, 8, 6, 3, 2, 6, 0, 9, 7, 4, 1, 7, 6, 4, 1,\n",
              "       1, 3, 5, 6, 5, 3, 8, 7, 6, 7, 7, 8, 5, 6, 7, 9, 4, 5, 0, 6, 8, 9,\n",
              "       2, 4, 9, 1, 9, 4, 5, 7, 2, 4, 1, 4, 4, 9, 6, 5, 5, 4, 4, 6, 0, 7,\n",
              "       5, 6, 5, 0, 2, 3, 6, 3, 8, 5, 9, 0, 6, 9, 8, 0, 4, 8, 6, 7, 7, 3,\n",
              "       3, 7, 1, 4, 1, 0, 6, 5, 1, 2, 5, 2, 6, 8, 5, 7, 4, 3, 0, 1, 7, 4,\n",
              "       6, 2, 4, 9, 3, 9, 5, 9, 4, 5, 8, 5, 4, 2, 2, 3, 0, 9, 8, 6, 2, 1,\n",
              "       9, 6, 3, 9, 6, 9, 3, 1, 7, 0, 8, 7, 7, 2, 6, 8, 3, 4, 2, 7, 7, 0,\n",
              "       1, 8, 2, 3, 8, 1, 7, 9, 5, 6, 2, 7, 1, 2, 6, 7, 6, 3, 0, 6, 6, 7,\n",
              "       0, 7, 8, 2, 1, 9, 0, 4, 6, 7, 0, 6, 5, 1, 5, 8, 6, 3, 9, 4, 6, 8,\n",
              "       0, 9, 8, 9, 3, 1, 9, 4, 6, 0, 8, 1, 2, 5, 1, 6, 8, 8, 6, 3, 6, 1,\n",
              "       3, 4, 0, 5, 4, 8, 0, 5, 5, 0, 8, 6, 4, 4, 3, 7, 6, 6, 7, 4, 1, 2,\n",
              "       5, 0, 5, 7, 2, 7, 2, 7, 7, 0, 7, 7, 2, 1, 9, 6, 0, 3, 8, 2, 5, 2,\n",
              "       8, 5, 8, 8, 7, 3, 3, 9, 8, 2, 3, 2, 2, 7, 1, 5, 2, 8, 9, 4, 5, 8,\n",
              "       9, 7, 7, 1, 1, 8, 5, 2, 9, 5, 3, 0, 5, 3, 8, 3, 7, 8, 8, 3, 4, 0,\n",
              "       0, 0, 3, 8, 4, 0, 2, 7, 7, 1, 0, 1, 8, 8, 4, 3, 0, 9, 1])"
            ]
          },
          "metadata": {},
          "execution_count": 45
        }
      ]
    },
    {
      "cell_type": "code",
      "source": [
        "lin_svc.score(X_test,y_test)"
      ],
      "metadata": {
        "colab": {
          "base_uri": "https://localhost:8080/"
        },
        "id": "aZijIyoh5QbV",
        "outputId": "c63606f4-de25-40bc-cab0-f0fc78917468"
      },
      "execution_count": null,
      "outputs": [
        {
          "output_type": "execute_result",
          "data": {
            "text/plain": [
              "0.9410456062291435"
            ]
          },
          "metadata": {},
          "execution_count": 48
        }
      ]
    },
    {
      "cell_type": "code",
      "source": [
        "from sklearn.model_selection import GridSearchCV"
      ],
      "metadata": {
        "id": "jdOknhat87bp"
      },
      "execution_count": 24,
      "outputs": []
    },
    {
      "cell_type": "code",
      "source": [
        "params = {\n",
        "    'C':[0.01,0.1,1,10]\n",
        "}\n",
        "svm_cv = GridSearchCV(svm.LinearSVC(), params)\n",
        "svm_cv.fit(X_train,y_train)\n",
        "print(\"Best Parameters:\",svm_cv.best_params_)\n",
        "print(\"Train Score:\",svm_cv.best_score_)\n",
        "print(\"Test Score:\",svm_cv.score(X_test,y_test))"
      ],
      "metadata": {
        "id": "_t1_IcLO5UC5",
        "colab": {
          "base_uri": "https://localhost:8080/",
          "height": 236
        },
        "outputId": "6a987b30-067b-4eec-c8f6-571eb393b3ab"
      },
      "execution_count": 38,
      "outputs": [
        {
          "output_type": "error",
          "ename": "AttributeError",
          "evalue": "ignored",
          "traceback": [
            "\u001b[0;31m---------------------------------------------------------------------------\u001b[0m",
            "\u001b[0;31mAttributeError\u001b[0m                            Traceback (most recent call last)",
            "\u001b[0;32m<ipython-input-38-fa1096211a6e>\u001b[0m in \u001b[0;36m<module>\u001b[0;34m\u001b[0m\n\u001b[1;32m      2\u001b[0m     \u001b[0;34m'C'\u001b[0m\u001b[0;34m:\u001b[0m\u001b[0;34m[\u001b[0m\u001b[0;36m0.01\u001b[0m\u001b[0;34m,\u001b[0m\u001b[0;36m0.1\u001b[0m\u001b[0;34m,\u001b[0m\u001b[0;36m1\u001b[0m\u001b[0;34m,\u001b[0m\u001b[0;36m10\u001b[0m\u001b[0;34m]\u001b[0m\u001b[0;34m\u001b[0m\u001b[0;34m\u001b[0m\u001b[0m\n\u001b[1;32m      3\u001b[0m }\n\u001b[0;32m----> 4\u001b[0;31m \u001b[0msvm_cv\u001b[0m \u001b[0;34m=\u001b[0m \u001b[0mGridSearchCV\u001b[0m\u001b[0;34m(\u001b[0m\u001b[0msvm\u001b[0m\u001b[0;34m.\u001b[0m\u001b[0mLinearSVC\u001b[0m\u001b[0;34m(\u001b[0m\u001b[0;34m)\u001b[0m\u001b[0;34m,\u001b[0m \u001b[0mparams\u001b[0m\u001b[0;34m)\u001b[0m\u001b[0;34m\u001b[0m\u001b[0;34m\u001b[0m\u001b[0m\n\u001b[0m\u001b[1;32m      5\u001b[0m \u001b[0msvm_cv\u001b[0m\u001b[0;34m.\u001b[0m\u001b[0mfit\u001b[0m\u001b[0;34m(\u001b[0m\u001b[0mX_train\u001b[0m\u001b[0;34m,\u001b[0m\u001b[0my_train\u001b[0m\u001b[0;34m)\u001b[0m\u001b[0;34m\u001b[0m\u001b[0;34m\u001b[0m\u001b[0m\n\u001b[1;32m      6\u001b[0m \u001b[0mprint\u001b[0m\u001b[0;34m(\u001b[0m\u001b[0;34m\"Best Parameters:\"\u001b[0m\u001b[0;34m,\u001b[0m\u001b[0msvm_cv\u001b[0m\u001b[0;34m.\u001b[0m\u001b[0mbest_params_\u001b[0m\u001b[0;34m)\u001b[0m\u001b[0;34m\u001b[0m\u001b[0;34m\u001b[0m\u001b[0m\n",
            "\u001b[0;31mAttributeError\u001b[0m: 'LinearSVC' object has no attribute 'LinearSVC'"
          ]
        }
      ]
    },
    {
      "cell_type": "markdown",
      "source": [
        "# Nouvelle section"
      ],
      "metadata": {
        "id": "4VISCApZGNGp"
      }
    }
  ]
}